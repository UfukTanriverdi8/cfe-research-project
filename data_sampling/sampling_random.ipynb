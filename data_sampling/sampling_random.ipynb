{
 "cells": [
  {
   "cell_type": "code",
   "execution_count": 1,
   "id": "b9a757da",
   "metadata": {},
   "outputs": [],
   "source": [
    "import pandas as pd\n",
    "import random\n",
    "df = pd.read_json(\"../data/questions/1200_verified_questions.json\")"
   ]
  },
  {
   "cell_type": "code",
   "execution_count": 2,
   "id": "23e52ac2",
   "metadata": {},
   "outputs": [
    {
     "data": {
      "text/plain": [
       "' print(str(sampled[\"question\"]))\\nprint(sampled[\"answer\"])\\nfor c in sampled[\"candidate_answers\"]:\\n    print(c) '"
      ]
     },
     "execution_count": 2,
     "metadata": {},
     "output_type": "execute_result"
    }
   ],
   "source": [
    "n_samples = 100\n",
    "random_state = random.randint(0, 1000)  # Random seed for reproducibility\n",
    "sampled = df.sample(n=n_samples, random_state=random_state)\n",
    "\"\"\" print(str(sampled[\"question\"]))\n",
    "print(sampled[\"answer\"])\n",
    "for c in sampled[\"candidate_answers\"]:\n",
    "    print(c) \"\"\""
   ]
  },
  {
   "cell_type": "code",
   "execution_count": 3,
   "id": "b608be40",
   "metadata": {},
   "outputs": [],
   "source": [
    "sampled.to_json(\n",
    "    f'../data/questions/{n_samples}_questions.json',\n",
    "    orient='records',\n",
    "    force_ascii=False,\n",
    "    indent=2\n",
    ")"
   ]
  }
 ],
 "metadata": {
  "kernelspec": {
   "display_name": "Python 3",
   "language": "python",
   "name": "python3"
  },
  "language_info": {
   "codemirror_mode": {
    "name": "ipython",
    "version": 3
   },
   "file_extension": ".py",
   "mimetype": "text/x-python",
   "name": "python",
   "nbconvert_exporter": "python",
   "pygments_lexer": "ipython3",
   "version": "3.12.5"
  }
 },
 "nbformat": 4,
 "nbformat_minor": 5
}
